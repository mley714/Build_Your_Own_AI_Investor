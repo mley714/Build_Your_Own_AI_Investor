{
  "nbformat": 4,
  "nbformat_minor": 0,
  "metadata": {
    "colab": {
      "name": "Pairs Trading.ipynb",
      "provenance": [],
      "collapsed_sections": [],
      "authorship_tag": "ABX9TyOz8q7s9hsXbCsVDsACyzTc",
      "include_colab_link": true
    },
    "kernelspec": {
      "name": "python3",
      "display_name": "Python 3"
    }
  },
  "cells": [
    {
      "cell_type": "markdown",
      "metadata": {
        "id": "view-in-github",
        "colab_type": "text"
      },
      "source": [
        "<a href=\"https://colab.research.google.com/github/mley714/Build_Your_Own_AI_Investor/blob/master/Pairs_Trading.ipynb\" target=\"_parent\"><img src=\"https://colab.research.google.com/assets/colab-badge.svg\" alt=\"Open In Colab\"/></a>"
      ]
    },
    {
      "cell_type": "code",
      "metadata": {
        "id": "3vXdvTuD7rm6"
      },
      "source": [
        ""
      ],
      "execution_count": null,
      "outputs": []
    },
    {
      "cell_type": "code",
      "metadata": {
        "colab": {
          "base_uri": "https://localhost:8080/"
        },
        "id": "tVjaTM7a8E3U",
        "outputId": "4c70e9fa-e90d-4de2-d1c6-c63003b15e58"
      },
      "source": [
        "!pip install yfinance"
      ],
      "execution_count": null,
      "outputs": [
        {
          "output_type": "stream",
          "text": [
            "Collecting yfinance\n",
            "  Downloading https://files.pythonhosted.org/packages/7a/e8/b9d7104d3a4bf39924799067592d9e59119fcfc900a425a12e80a3123ec8/yfinance-0.1.55.tar.gz\n",
            "Requirement already satisfied: pandas>=0.24 in /usr/local/lib/python3.6/dist-packages (from yfinance) (1.1.5)\n",
            "Requirement already satisfied: numpy>=1.15 in /usr/local/lib/python3.6/dist-packages (from yfinance) (1.19.4)\n",
            "Requirement already satisfied: requests>=2.20 in /usr/local/lib/python3.6/dist-packages (from yfinance) (2.23.0)\n",
            "Requirement already satisfied: multitasking>=0.0.7 in /usr/local/lib/python3.6/dist-packages (from yfinance) (0.0.9)\n",
            "Collecting lxml>=4.5.1\n",
            "\u001b[?25l  Downloading https://files.pythonhosted.org/packages/bd/78/56a7c88a57d0d14945472535d0df9fb4bbad7d34ede658ec7961635c790e/lxml-4.6.2-cp36-cp36m-manylinux1_x86_64.whl (5.5MB)\n",
            "\u001b[K     |████████████████████████████████| 5.5MB 7.7MB/s \n",
            "\u001b[?25hRequirement already satisfied: pytz>=2017.2 in /usr/local/lib/python3.6/dist-packages (from pandas>=0.24->yfinance) (2018.9)\n",
            "Requirement already satisfied: python-dateutil>=2.7.3 in /usr/local/lib/python3.6/dist-packages (from pandas>=0.24->yfinance) (2.8.1)\n",
            "Requirement already satisfied: chardet<4,>=3.0.2 in /usr/local/lib/python3.6/dist-packages (from requests>=2.20->yfinance) (3.0.4)\n",
            "Requirement already satisfied: idna<3,>=2.5 in /usr/local/lib/python3.6/dist-packages (from requests>=2.20->yfinance) (2.10)\n",
            "Requirement already satisfied: certifi>=2017.4.17 in /usr/local/lib/python3.6/dist-packages (from requests>=2.20->yfinance) (2020.12.5)\n",
            "Requirement already satisfied: urllib3!=1.25.0,!=1.25.1,<1.26,>=1.21.1 in /usr/local/lib/python3.6/dist-packages (from requests>=2.20->yfinance) (1.24.3)\n",
            "Requirement already satisfied: six>=1.5 in /usr/local/lib/python3.6/dist-packages (from python-dateutil>=2.7.3->pandas>=0.24->yfinance) (1.15.0)\n",
            "Building wheels for collected packages: yfinance\n",
            "  Building wheel for yfinance (setup.py) ... \u001b[?25l\u001b[?25hdone\n",
            "  Created wheel for yfinance: filename=yfinance-0.1.55-py2.py3-none-any.whl size=22616 sha256=2fe81917aa8d32ba68e1a10ded776b1502204126341dbb59a00d8fced45f066b\n",
            "  Stored in directory: /root/.cache/pip/wheels/04/98/cc/2702a4242d60bdc14f48b4557c427ded1fe92aedf257d4565c\n",
            "Successfully built yfinance\n",
            "Installing collected packages: lxml, yfinance\n",
            "  Found existing installation: lxml 4.2.6\n",
            "    Uninstalling lxml-4.2.6:\n",
            "      Successfully uninstalled lxml-4.2.6\n",
            "Successfully installed lxml-4.6.2 yfinance-0.1.55\n"
          ],
          "name": "stdout"
        }
      ]
    },
    {
      "cell_type": "code",
      "metadata": {
        "colab": {
          "base_uri": "https://localhost:8080/",
          "height": 299
        },
        "id": "woVXi2yT8I0B",
        "outputId": "df8e5cc9-3f14-4db2-e1e7-1169a47afe64"
      },
      "source": [
        "from datetime import datime"
      ],
      "execution_count": null,
      "outputs": [
        {
          "output_type": "error",
          "ename": "ImportError",
          "evalue": "ignored",
          "traceback": [
            "\u001b[0;31m---------------------------------------------------------------------------\u001b[0m",
            "\u001b[0;31mImportError\u001b[0m                               Traceback (most recent call last)",
            "\u001b[0;32m<ipython-input-2-4b632a016f68>\u001b[0m in \u001b[0;36m<module>\u001b[0;34m()\u001b[0m\n\u001b[0;32m----> 1\u001b[0;31m \u001b[0;32mfrom\u001b[0m \u001b[0mdatetime\u001b[0m \u001b[0;32mimport\u001b[0m \u001b[0mdatime\u001b[0m\u001b[0;34m\u001b[0m\u001b[0;34m\u001b[0m\u001b[0m\n\u001b[0m",
            "\u001b[0;31mImportError\u001b[0m: cannot import name 'datime'",
            "",
            "\u001b[0;31m---------------------------------------------------------------------------\u001b[0;32m\nNOTE: If your import is failing due to a missing package, you can\nmanually install dependencies using either !pip or !apt.\n\nTo view examples of installing some common dependencies, click the\n\"Open Examples\" button below.\n\u001b[0;31m---------------------------------------------------------------------------\u001b[0m\n"
          ]
        }
      ]
    },
    {
      "cell_type": "code",
      "metadata": {
        "id": "JqeC2Uvu8QoJ"
      },
      "source": [
        "from datetime import datetime"
      ],
      "execution_count": null,
      "outputs": []
    },
    {
      "cell_type": "code",
      "metadata": {
        "id": "69D6AslI8qMC"
      },
      "source": [
        "import pandas as pd"
      ],
      "execution_count": null,
      "outputs": []
    },
    {
      "cell_type": "code",
      "metadata": {
        "id": "aQlCupJV8sbp"
      },
      "source": [
        "import matplotlib.pyplot as plt"
      ],
      "execution_count": null,
      "outputs": []
    },
    {
      "cell_type": "code",
      "metadata": {
        "id": "U-8BKwmF8yK4"
      },
      "source": [
        "import numpy as np"
      ],
      "execution_count": null,
      "outputs": []
    },
    {
      "cell_type": "code",
      "metadata": {
        "colab": {
          "base_uri": "https://localhost:8080/"
        },
        "id": "4aa3PxZR81Vw",
        "outputId": "80e03e7d-7ea0-473b-f446-6fb0fc459fcd"
      },
      "source": [
        "import yfinance as yf\r\n",
        "data =yf.download('UNH',start=\"2020-01-01\", end=\"2020-12-31\")"
      ],
      "execution_count": null,
      "outputs": [
        {
          "output_type": "stream",
          "text": [
            "\r[*********************100%***********************]  1 of 1 completed\n"
          ],
          "name": "stdout"
        }
      ]
    },
    {
      "cell_type": "code",
      "metadata": {
        "colab": {
          "base_uri": "https://localhost:8080/",
          "height": 235
        },
        "id": "iBI-rbRz9PCJ",
        "outputId": "75c1c992-9de0-41ee-ee05-3d542ae1b59a"
      },
      "source": [
        "data.head()"
      ],
      "execution_count": null,
      "outputs": [
        {
          "output_type": "execute_result",
          "data": {
            "text/html": [
              "<div>\n",
              "<style scoped>\n",
              "    .dataframe tbody tr th:only-of-type {\n",
              "        vertical-align: middle;\n",
              "    }\n",
              "\n",
              "    .dataframe tbody tr th {\n",
              "        vertical-align: top;\n",
              "    }\n",
              "\n",
              "    .dataframe thead th {\n",
              "        text-align: right;\n",
              "    }\n",
              "</style>\n",
              "<table border=\"1\" class=\"dataframe\">\n",
              "  <thead>\n",
              "    <tr style=\"text-align: right;\">\n",
              "      <th></th>\n",
              "      <th>Open</th>\n",
              "      <th>High</th>\n",
              "      <th>Low</th>\n",
              "      <th>Close</th>\n",
              "      <th>Adj Close</th>\n",
              "      <th>Volume</th>\n",
              "    </tr>\n",
              "    <tr>\n",
              "      <th>Date</th>\n",
              "      <th></th>\n",
              "      <th></th>\n",
              "      <th></th>\n",
              "      <th></th>\n",
              "      <th></th>\n",
              "      <th></th>\n",
              "    </tr>\n",
              "  </thead>\n",
              "  <tbody>\n",
              "    <tr>\n",
              "      <th>2020-01-02</th>\n",
              "      <td>293.980011</td>\n",
              "      <td>295.700012</td>\n",
              "      <td>289.790009</td>\n",
              "      <td>292.500000</td>\n",
              "      <td>287.764160</td>\n",
              "      <td>2543400</td>\n",
              "    </tr>\n",
              "    <tr>\n",
              "      <th>2020-01-03</th>\n",
              "      <td>287.269989</td>\n",
              "      <td>291.880005</td>\n",
              "      <td>284.359985</td>\n",
              "      <td>289.540009</td>\n",
              "      <td>284.852081</td>\n",
              "      <td>2711400</td>\n",
              "    </tr>\n",
              "    <tr>\n",
              "      <th>2020-01-06</th>\n",
              "      <td>288.000000</td>\n",
              "      <td>291.660004</td>\n",
              "      <td>287.220001</td>\n",
              "      <td>291.549988</td>\n",
              "      <td>286.829498</td>\n",
              "      <td>3079100</td>\n",
              "    </tr>\n",
              "    <tr>\n",
              "      <th>2020-01-07</th>\n",
              "      <td>290.700012</td>\n",
              "      <td>291.489990</td>\n",
              "      <td>287.579987</td>\n",
              "      <td>289.790009</td>\n",
              "      <td>285.098053</td>\n",
              "      <td>2492900</td>\n",
              "    </tr>\n",
              "    <tr>\n",
              "      <th>2020-01-08</th>\n",
              "      <td>291.500000</td>\n",
              "      <td>297.380005</td>\n",
              "      <td>290.040009</td>\n",
              "      <td>295.899994</td>\n",
              "      <td>291.109100</td>\n",
              "      <td>3379200</td>\n",
              "    </tr>\n",
              "  </tbody>\n",
              "</table>\n",
              "</div>"
            ],
            "text/plain": [
              "                  Open        High         Low       Close   Adj Close   Volume\n",
              "Date                                                                           \n",
              "2020-01-02  293.980011  295.700012  289.790009  292.500000  287.764160  2543400\n",
              "2020-01-03  287.269989  291.880005  284.359985  289.540009  284.852081  2711400\n",
              "2020-01-06  288.000000  291.660004  287.220001  291.549988  286.829498  3079100\n",
              "2020-01-07  290.700012  291.489990  287.579987  289.790009  285.098053  2492900\n",
              "2020-01-08  291.500000  297.380005  290.040009  295.899994  291.109100  3379200"
            ]
          },
          "metadata": {
            "tags": []
          },
          "execution_count": 13
        }
      ]
    },
    {
      "cell_type": "code",
      "metadata": {
        "colab": {
          "base_uri": "https://localhost:8080/",
          "height": 450
        },
        "id": "I7YUGK_39vuP",
        "outputId": "9b4e19c3-228d-4aea-9125-e4da15a0370e"
      },
      "source": [
        "data"
      ],
      "execution_count": null,
      "outputs": [
        {
          "output_type": "execute_result",
          "data": {
            "text/html": [
              "<div>\n",
              "<style scoped>\n",
              "    .dataframe tbody tr th:only-of-type {\n",
              "        vertical-align: middle;\n",
              "    }\n",
              "\n",
              "    .dataframe tbody tr th {\n",
              "        vertical-align: top;\n",
              "    }\n",
              "\n",
              "    .dataframe thead th {\n",
              "        text-align: right;\n",
              "    }\n",
              "</style>\n",
              "<table border=\"1\" class=\"dataframe\">\n",
              "  <thead>\n",
              "    <tr style=\"text-align: right;\">\n",
              "      <th></th>\n",
              "      <th>Open</th>\n",
              "      <th>High</th>\n",
              "      <th>Low</th>\n",
              "      <th>Close</th>\n",
              "      <th>Adj Close</th>\n",
              "      <th>Volume</th>\n",
              "    </tr>\n",
              "    <tr>\n",
              "      <th>Date</th>\n",
              "      <th></th>\n",
              "      <th></th>\n",
              "      <th></th>\n",
              "      <th></th>\n",
              "      <th></th>\n",
              "      <th></th>\n",
              "    </tr>\n",
              "  </thead>\n",
              "  <tbody>\n",
              "    <tr>\n",
              "      <th>2020-01-02</th>\n",
              "      <td>293.980011</td>\n",
              "      <td>295.700012</td>\n",
              "      <td>289.790009</td>\n",
              "      <td>292.500000</td>\n",
              "      <td>287.764160</td>\n",
              "      <td>2543400</td>\n",
              "    </tr>\n",
              "    <tr>\n",
              "      <th>2020-01-03</th>\n",
              "      <td>287.269989</td>\n",
              "      <td>291.880005</td>\n",
              "      <td>284.359985</td>\n",
              "      <td>289.540009</td>\n",
              "      <td>284.852081</td>\n",
              "      <td>2711400</td>\n",
              "    </tr>\n",
              "    <tr>\n",
              "      <th>2020-01-06</th>\n",
              "      <td>288.000000</td>\n",
              "      <td>291.660004</td>\n",
              "      <td>287.220001</td>\n",
              "      <td>291.549988</td>\n",
              "      <td>286.829498</td>\n",
              "      <td>3079100</td>\n",
              "    </tr>\n",
              "    <tr>\n",
              "      <th>2020-01-07</th>\n",
              "      <td>290.700012</td>\n",
              "      <td>291.489990</td>\n",
              "      <td>287.579987</td>\n",
              "      <td>289.790009</td>\n",
              "      <td>285.098053</td>\n",
              "      <td>2492900</td>\n",
              "    </tr>\n",
              "    <tr>\n",
              "      <th>2020-01-08</th>\n",
              "      <td>291.500000</td>\n",
              "      <td>297.380005</td>\n",
              "      <td>290.040009</td>\n",
              "      <td>295.899994</td>\n",
              "      <td>291.109100</td>\n",
              "      <td>3379200</td>\n",
              "    </tr>\n",
              "    <tr>\n",
              "      <th>...</th>\n",
              "      <td>...</td>\n",
              "      <td>...</td>\n",
              "      <td>...</td>\n",
              "      <td>...</td>\n",
              "      <td>...</td>\n",
              "      <td>...</td>\n",
              "    </tr>\n",
              "    <tr>\n",
              "      <th>2020-12-23</th>\n",
              "      <td>336.489990</td>\n",
              "      <td>341.649994</td>\n",
              "      <td>336.029999</td>\n",
              "      <td>337.589996</td>\n",
              "      <td>337.589996</td>\n",
              "      <td>2348100</td>\n",
              "    </tr>\n",
              "    <tr>\n",
              "      <th>2020-12-24</th>\n",
              "      <td>336.440002</td>\n",
              "      <td>341.410004</td>\n",
              "      <td>336.440002</td>\n",
              "      <td>340.790009</td>\n",
              "      <td>340.790009</td>\n",
              "      <td>1360600</td>\n",
              "    </tr>\n",
              "    <tr>\n",
              "      <th>2020-12-28</th>\n",
              "      <td>343.209991</td>\n",
              "      <td>347.790009</td>\n",
              "      <td>343.059998</td>\n",
              "      <td>345.950012</td>\n",
              "      <td>345.950012</td>\n",
              "      <td>2308200</td>\n",
              "    </tr>\n",
              "    <tr>\n",
              "      <th>2020-12-29</th>\n",
              "      <td>347.989990</td>\n",
              "      <td>351.290009</td>\n",
              "      <td>345.000000</td>\n",
              "      <td>347.350006</td>\n",
              "      <td>347.350006</td>\n",
              "      <td>2275700</td>\n",
              "    </tr>\n",
              "    <tr>\n",
              "      <th>2020-12-30</th>\n",
              "      <td>347.079987</td>\n",
              "      <td>349.010010</td>\n",
              "      <td>344.470001</td>\n",
              "      <td>344.989990</td>\n",
              "      <td>344.989990</td>\n",
              "      <td>1866000</td>\n",
              "    </tr>\n",
              "  </tbody>\n",
              "</table>\n",
              "<p>252 rows × 6 columns</p>\n",
              "</div>"
            ],
            "text/plain": [
              "                  Open        High         Low       Close   Adj Close   Volume\n",
              "Date                                                                           \n",
              "2020-01-02  293.980011  295.700012  289.790009  292.500000  287.764160  2543400\n",
              "2020-01-03  287.269989  291.880005  284.359985  289.540009  284.852081  2711400\n",
              "2020-01-06  288.000000  291.660004  287.220001  291.549988  286.829498  3079100\n",
              "2020-01-07  290.700012  291.489990  287.579987  289.790009  285.098053  2492900\n",
              "2020-01-08  291.500000  297.380005  290.040009  295.899994  291.109100  3379200\n",
              "...                ...         ...         ...         ...         ...      ...\n",
              "2020-12-23  336.489990  341.649994  336.029999  337.589996  337.589996  2348100\n",
              "2020-12-24  336.440002  341.410004  336.440002  340.790009  340.790009  1360600\n",
              "2020-12-28  343.209991  347.790009  343.059998  345.950012  345.950012  2308200\n",
              "2020-12-29  347.989990  351.290009  345.000000  347.350006  347.350006  2275700\n",
              "2020-12-30  347.079987  349.010010  344.470001  344.989990  344.989990  1866000\n",
              "\n",
              "[252 rows x 6 columns]"
            ]
          },
          "metadata": {
            "tags": []
          },
          "execution_count": 14
        }
      ]
    },
    {
      "cell_type": "code",
      "metadata": {
        "id": "hXzTqVTJ-iiV"
      },
      "source": [
        ""
      ],
      "execution_count": null,
      "outputs": []
    }
  ]
}